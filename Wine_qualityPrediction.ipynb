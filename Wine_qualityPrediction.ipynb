{
  "nbformat": 4,
  "nbformat_minor": 0,
  "metadata": {
    "colab": {
      "name": "Wine_qualityPrediction.ipynb",
      "provenance": []
    },
    "kernelspec": {
      "name": "python3",
      "display_name": "Python 3"
    },
    "language_info": {
      "name": "python"
    }
  },
  "cells": [
    {
      "cell_type": "code",
      "execution_count": null,
      "metadata": {
        "id": "mjh_LYIk25o7"
      },
      "outputs": [],
      "source": [
        ""
      ]
    },
    {
      "cell_type": "code",
      "execution_count": 1,
      "metadata": {
        "id": "NlqF9mGs1UzM"
      },
      "outputs": [],
      "source": [
        "import numpy as np\n",
        "import pandas as pd\n",
        "import matplotlib.pyplot as plt, seaborn as sns\n",
        "import warnings\n",
        "warnings.filterwarnings('ignore')"
      ]
    },
    {
      "cell_type": "code",
      "source": [
        "print(tensorflow.__version__)"
      ],
      "metadata": {
        "colab": {
          "base_uri": "https://localhost:8080/",
          "height": 166
        },
        "id": "0ZORoC5C1sJS",
        "outputId": "d858fa86-4755-4d4a-bd0e-1de0c66a1118"
      },
      "execution_count": 2,
      "outputs": [
        {
          "output_type": "error",
          "ename": "NameError",
          "evalue": "ignored",
          "traceback": [
            "\u001b[0;31m---------------------------------------------------------------------------\u001b[0m",
            "\u001b[0;31mNameError\u001b[0m                                 Traceback (most recent call last)",
            "\u001b[0;32m<ipython-input-2-8e78df944b90>\u001b[0m in \u001b[0;36m<module>\u001b[0;34m()\u001b[0m\n\u001b[0;32m----> 1\u001b[0;31m \u001b[0mprint\u001b[0m\u001b[0;34m(\u001b[0m\u001b[0mtensorflow\u001b[0m\u001b[0;34m.\u001b[0m\u001b[0m__version__\u001b[0m\u001b[0;34m)\u001b[0m\u001b[0;34m\u001b[0m\u001b[0;34m\u001b[0m\u001b[0m\n\u001b[0m",
            "\u001b[0;31mNameError\u001b[0m: name 'tensorflow' is not defined"
          ]
        }
      ]
    },
    {
      "cell_type": "code",
      "source": [
        "wine_df = pd.read_csv('winequality-red.csv')"
      ],
      "metadata": {
        "id": "JHpW7DCO1scG"
      },
      "execution_count": null,
      "outputs": []
    },
    {
      "cell_type": "code",
      "source": [
        "wine_df.head()"
      ],
      "metadata": {
        "id": "m9v8kD2-1skx"
      },
      "execution_count": null,
      "outputs": []
    },
    {
      "cell_type": "code",
      "source": [
        "wine_df.shape"
      ],
      "metadata": {
        "id": "KWg-Zl1M1sqA"
      },
      "execution_count": null,
      "outputs": []
    },
    {
      "cell_type": "code",
      "source": [
        "wine_df.info()"
      ],
      "metadata": {
        "id": "aFGkAduf1stv"
      },
      "execution_count": null,
      "outputs": []
    },
    {
      "cell_type": "code",
      "source": [
        "wine_df.describe()"
      ],
      "metadata": {
        "id": "BQ_LxYqL1sxD"
      },
      "execution_count": null,
      "outputs": []
    },
    {
      "cell_type": "code",
      "source": [
        "# 2. Missing value  imputation\n",
        "wine_df.isnull().sum()"
      ],
      "metadata": {
        "id": "A5qWFrcA1sz8"
      },
      "execution_count": null,
      "outputs": []
    },
    {
      "cell_type": "code",
      "source": [
        "feature_ = wine_df.columns[:-1]\n",
        "def get_percentile(feature,q_range):\n",
        "    dist = wine_df[feature].describe()[str(q_range) + '%']\n",
        "    return round(dist,2)\n",
        "def render_counterplot():\n",
        "    fig= plt.figure(figsize=(18,20))\n",
        "    for column,feature in enumerate(feature_):\n",
        "        fig.add_subplot(4,3,column+1)\n",
        "        q1 = get_percentile(feature,25)\n",
        "        q2 = get_percentile(feature,50)\n",
        "        q3 = get_percentile(feature,75)\n",
        "        sns.histplot(data=wine_df, x=feature, kde=True,color='orange')\n",
        "        plt.axvline(q1,linestyle='--',color='green',label='Q1')\n",
        "        plt.axvline(q2,linestyle='--',color='red',label='Q2')\n",
        "        plt.axvline(q3,linestyle='--',color='black',label='Q3')\n",
        "        plt.legend()\n",
        "    plt.show()\n",
        "render_counterplot()"
      ],
      "metadata": {
        "id": "LZ_6VaCx1s2q"
      },
      "execution_count": null,
      "outputs": []
    },
    {
      "cell_type": "code",
      "source": [
        "plt.figure(figsize=(18,6))\n",
        "\n",
        "ax1= sns.countplot(x='quality',data=wine_df, palette='Set2')\n",
        "plt.xlabel('Wine Quality', fontsize=14)\n",
        "plt.ylabel('count', fontsize=14)\n",
        "\n",
        "ax2 = ax1.twinx()\n",
        "ax2.yaxis.tick_left()\n",
        "ax1.yaxis.tick_right()\n",
        "ax1.yaxis.set_label_position('right')\n",
        "ax2.yaxis.set_label_position('left')\n",
        "ax2.set_ylabel('Frequency [%]')\n",
        "\n",
        "for p in ax1.patches:\n",
        "    x = p.get_bbox().get_points()[:,0]\n",
        "    y = p.get_bbox().get_points()[1,1]\n",
        "    ax1.annotate('{:.1f}%'.format(100.*y/len(wine_df)),(x.mean(),y),ha='center')"
      ],
      "metadata": {
        "id": "hzCgnsEw1s5M"
      },
      "execution_count": null,
      "outputs": []
    },
    {
      "cell_type": "code",
      "source": [
        "features_ = wine_df.columns.values[:-1]\n",
        "fig= plt.figure(figsize=(16,26))\n",
        "for column,feature in enumerate(features_):\n",
        "    fig.add_subplot(5,3,column+1)\n",
        "    sns.boxplot(data=wine_df,x='quality',y=feature)\n",
        "plt.show()"
      ],
      "metadata": {
        "id": "ZYKIzUiA1s7z"
      },
      "execution_count": null,
      "outputs": []
    },
    {
      "cell_type": "code",
      "source": [
        "from sklearn.ensemble import RandomForestRegressor\n",
        "rf = RandomForestRegressor(random_state=1, max_depth=12)\n",
        "\n",
        "x = wine_df.drop(['quality'],axis=1)\n",
        "\n",
        "rf.fit(x,wine_df.quality)\n",
        "\n",
        "# store importance and feature names\n",
        "features = wine_df.columns\n",
        "importances= rf.feature_importances_\n",
        "sorted_index = np.argsort(importances)[:]\n",
        "\n",
        "plt.figure(figsize=(18,6))\n",
        "plt.title('Feature Importances',fontsize=14)\n",
        "plt.barh(range(len(sorted_index)),importances[sorted_index],color='green',align='center')\n",
        "plt.yticks(range(len(sorted_index)),[features[i] for i in sorted_index])\n",
        "plt.xlabel('feature importance',fontsize=12)\n",
        "plt.show()"
      ],
      "metadata": {
        "id": "3zAcsYa01s-w"
      },
      "execution_count": null,
      "outputs": []
    },
    {
      "cell_type": "code",
      "source": [
        "# check for multicollinearity\n",
        "\n",
        "plt.figure(figsize=(18,12))\n",
        "\n",
        "sns.heatmap(x.corr(),annot=True)\n",
        "plt.show()"
      ],
      "metadata": {
        "id": "8FinlhKA1tCt"
      },
      "execution_count": null,
      "outputs": []
    },
    {
      "cell_type": "code",
      "source": [
        "wine_df.drop(['fixed acidity','free sulfur dioxide'],axis=1,inplace= True)"
      ],
      "metadata": {
        "id": "rbY0mgBj1tGs"
      },
      "execution_count": null,
      "outputs": []
    },
    {
      "cell_type": "code",
      "source": [
        "from imblearn.over_sampling import SMOTE\n",
        "x = wine_df.drop('quality', axis = 'columns')\n",
        "y = wine_df['quality']\n",
        "smote = SMOTE(sampling_strategy = 'minority')\n",
        "x_sm, y_sm = smote.fit_resample(x,y)\n"
      ],
      "metadata": {
        "id": "bXk7IhWP1tKj"
      },
      "execution_count": null,
      "outputs": []
    },
    {
      "cell_type": "code",
      "source": [
        "from sklearn.preprocessing import StandardScaler\n",
        "scaler = StandardScaler()\n",
        "x_sm[x_sm.columns] = scaler.fit_transform(x_sm[x_sm.columns])"
      ],
      "metadata": {
        "id": "wQP62xE-1tO1"
      },
      "execution_count": null,
      "outputs": []
    },
    {
      "cell_type": "code",
      "source": [
        "x_sm"
      ],
      "metadata": {
        "id": "g3cA8rYn1tS8"
      },
      "execution_count": null,
      "outputs": []
    },
    {
      "cell_type": "code",
      "source": [
        "## need to run again for 2nd and 3 rd model as y_test was manipulated \n",
        "from sklearn.model_selection import train_test_split\n",
        "x_train,x_test,y_train,y_test= train_test_split(x_sm,y_sm,test_size=0.2,random_state=42)"
      ],
      "metadata": {
        "id": "YU49-IW03yzl"
      },
      "execution_count": null,
      "outputs": []
    },
    {
      "cell_type": "code",
      "source": [
        "import tensorflow\n",
        "from tensorflow.keras.models import Sequential\n",
        "from tensorflow.keras.layers import Input, Dense\n",
        "from tensorflow.keras.layers import Dropout"
      ],
      "metadata": {
        "id": "5YYTVugr3zCf"
      },
      "execution_count": null,
      "outputs": []
    },
    {
      "cell_type": "code",
      "source": [
        "model = Sequential()\n",
        "model.add(tensorflow.keras.layers.Input(shape=9,))\n",
        "model.add(tensorflow.keras.layers.Dense(32,activation='relu'))\n",
        "model.add(tensorflow.keras.layers.Dense(64,activation='relu'))\n",
        "model.add(tensorflow.keras.layers.Dropout(0.3))\n",
        "model.add(tensorflow.keras.layers.Dense(128,activation='relu'))\n",
        "model.add(tensorflow.keras.layers.Dropout(0.3))\n",
        "model.add(tensorflow.keras.layers.Dense(6,activation='softmax'))"
      ],
      "metadata": {
        "id": "VpBGcEyW3zNP"
      },
      "execution_count": null,
      "outputs": []
    },
    {
      "cell_type": "code",
      "source": [
        "## need to run again for 2nd and 3 rd model as y_test was manipulated \n",
        "from sklearn.preprocessing import LabelEncoder\n",
        "le= LabelEncoder()\n",
        "y_train=le.fit_transform(y_train)\n",
        "y_test = le.transform(y_test)"
      ],
      "metadata": {
        "id": "C_VYLGAr3zS7"
      },
      "execution_count": null,
      "outputs": []
    },
    {
      "cell_type": "code",
      "source": [
        "y_train"
      ],
      "metadata": {
        "id": "yKSdPbqP3zXX"
      },
      "execution_count": null,
      "outputs": []
    },
    {
      "cell_type": "code",
      "source": [
        "## need to run again for 2nd and 3 rd model as y_test was manipulated \n",
        "y_train = pd.DataFrame(y_train.reshape(len(y_train),1))\n",
        "y_test = pd.DataFrame(y_test.reshape(len(y_test),1))"
      ],
      "metadata": {
        "id": "_JniIOIr3zbR"
      },
      "execution_count": null,
      "outputs": []
    },
    {
      "cell_type": "code",
      "source": [
        "y_train"
      ],
      "metadata": {
        "id": "INhabITh3ze-"
      },
      "execution_count": null,
      "outputs": []
    },
    {
      "cell_type": "code",
      "source": [
        "y_train"
      ],
      "metadata": {
        "id": "lAkP2aF53zij"
      },
      "execution_count": null,
      "outputs": []
    },
    {
      "cell_type": "code",
      "source": [
        "## need to run again for 2nd and 3 rd model as y_test was manipulated \n",
        "y_train = tensorflow.keras.utils.to_categorical(y_train,6)\n",
        "y_test = tensorflow.keras.utils.to_categorical(y_test,6)"
      ],
      "metadata": {
        "id": "FY8dJmVA3zmQ"
      },
      "execution_count": null,
      "outputs": []
    },
    {
      "cell_type": "code",
      "source": [
        "y_train"
      ],
      "metadata": {
        "id": "Awfj_mLE3zp_"
      },
      "execution_count": null,
      "outputs": []
    },
    {
      "cell_type": "code",
      "source": [
        "model.compile(optimizer='adam',loss='categorical_crossentropy',metrics=['accuracy'])"
      ],
      "metadata": {
        "id": "hgPdATnW3ztv"
      },
      "execution_count": null,
      "outputs": []
    },
    {
      "cell_type": "code",
      "source": [
        "model.fit(x_train,y_train,epochs=400,verbose=1)"
      ],
      "metadata": {
        "id": "0w3zVUbe3zxz"
      },
      "execution_count": null,
      "outputs": []
    },
    {
      "cell_type": "code",
      "source": [
        "y_pred = model.predict_classes(x_test)"
      ],
      "metadata": {
        "id": "eyxCdfCY3z3l"
      },
      "execution_count": null,
      "outputs": []
    },
    {
      "cell_type": "code",
      "source": [
        "y_test"
      ],
      "metadata": {
        "id": "lWGSjeaj3z9K"
      },
      "execution_count": null,
      "outputs": []
    },
    {
      "cell_type": "code",
      "source": [
        "y_test = np.argmax(y_test,axis=1)"
      ],
      "metadata": {
        "id": "6oCMFDXT5FMO"
      },
      "execution_count": null,
      "outputs": []
    },
    {
      "cell_type": "code",
      "source": [
        "y_test"
      ],
      "metadata": {
        "id": "Z-FOo6KZ5FXH"
      },
      "execution_count": null,
      "outputs": []
    },
    {
      "cell_type": "code",
      "source": [
        "y_pred"
      ],
      "metadata": {
        "id": "OUE7SWzA5Fl8"
      },
      "execution_count": null,
      "outputs": []
    },
    {
      "cell_type": "code",
      "source": [
        "from sklearn.metrics import accuracy_score\n",
        "\n",
        "accuracy_score(y_test,y_pred)*100"
      ],
      "metadata": {
        "id": "UEHHLxGp5FvX"
      },
      "execution_count": null,
      "outputs": []
    },
    {
      "cell_type": "code",
      "source": [
        "from sklearn.metrics import classification_report\n",
        "print(classification_report(y_test,y_pred))"
      ],
      "metadata": {
        "id": "IAmTOCIS5GAa"
      },
      "execution_count": null,
      "outputs": []
    },
    {
      "cell_type": "code",
      "source": [
        "model = Sequential()\n",
        "model.add(tensorflow.keras.layers.Input(shape=9,))\n",
        "model.add(tensorflow.keras.layers.Dense(32,activation='relu'))\n",
        "model.add(tensorflow.keras.layers.Dense(64,activation='relu'))\n",
        "model.add(tensorflow.keras.layers.Dropout(0.3))\n",
        "\n",
        "model.add(tensorflow.keras.layers.Dense(6,activation='softmax'))"
      ],
      "metadata": {
        "id": "dm7S-pAD5GIL"
      },
      "execution_count": null,
      "outputs": []
    },
    {
      "cell_type": "code",
      "source": [
        "model.compile(optimizer='adam',loss='categorical_crossentropy',metrics=['accuracy'])"
      ],
      "metadata": {
        "id": "5eyK7CZ_5GO9"
      },
      "execution_count": null,
      "outputs": []
    },
    {
      "cell_type": "code",
      "source": [
        "model.fit(x_train,y_train,epochs=400,verbose=1)"
      ],
      "metadata": {
        "id": "82964Lyx5rxF"
      },
      "execution_count": null,
      "outputs": []
    },
    {
      "cell_type": "code",
      "source": [
        "y_pred = model.predict_classes(x_test)"
      ],
      "metadata": {
        "id": "RJi1IGN_5r6s"
      },
      "execution_count": null,
      "outputs": []
    },
    {
      "cell_type": "code",
      "source": [
        "y_test = np.argmax(y_test,axis=1)"
      ],
      "metadata": {
        "id": "5Wx7vPDU5sEl"
      },
      "execution_count": null,
      "outputs": []
    },
    {
      "cell_type": "code",
      "source": [
        "from sklearn.metrics import accuracy_score\n",
        "\n",
        "accuracy_score(y_test,y_pred)*100"
      ],
      "metadata": {
        "id": "DhDo_6RO6geN"
      },
      "execution_count": null,
      "outputs": []
    },
    {
      "cell_type": "code",
      "source": [
        "model = Sequential()\n",
        "model.add(tensorflow.keras.layers.Input(shape=9,))\n",
        "model.add(tensorflow.keras.layers.Dense(32,activation='relu'))\n",
        "model.add(tensorflow.keras.layers.Dense(64,activation='relu'))\n",
        "model.add(tensorflow.keras.layers.Dropout(0.3))\n",
        "model.add(tensorflow.keras.layers.Dense(128,activation='relu'))\n",
        "model.add(tensorflow.keras.layers.Dropout(0.3))\n",
        "model.add(tensorflow.keras.layers.Dense(256,activation='relu'))\n",
        "model.add(tensorflow.keras.layers.Dropout(0.3))\n",
        "model.add(tensorflow.keras.layers.Dense(6,activation='softmax'))"
      ],
      "metadata": {
        "id": "9ZjpNH_b6gj-"
      },
      "execution_count": null,
      "outputs": []
    },
    {
      "cell_type": "code",
      "source": [
        "model.compile(optimizer='adam',loss='categorical_crossentropy',metrics=['accuracy'])"
      ],
      "metadata": {
        "id": "9PlNw6Ic6go9"
      },
      "execution_count": null,
      "outputs": []
    },
    {
      "cell_type": "code",
      "source": [
        "model.fit(x_train,y_train,epochs=400,verbose=1)"
      ],
      "metadata": {
        "id": "qQJ0LvWt6gtq"
      },
      "execution_count": null,
      "outputs": []
    },
    {
      "cell_type": "code",
      "source": [
        "y_pred = model.predict_classes(x_test)"
      ],
      "metadata": {
        "id": "j42Mdw0k62eM"
      },
      "execution_count": null,
      "outputs": []
    },
    {
      "cell_type": "code",
      "source": [
        "y_test = np.argmax(y_test,axis=1)"
      ],
      "metadata": {
        "id": "S-mKgmMB62iv"
      },
      "execution_count": null,
      "outputs": []
    },
    {
      "cell_type": "code",
      "source": [
        "from sklearn.metrics import accuracy_score\n",
        "\n",
        "accuracy_score(y_test,y_pred)*100"
      ],
      "metadata": {
        "id": "5RSEg2GF62nG"
      },
      "execution_count": null,
      "outputs": []
    },
    {
      "cell_type": "code",
      "source": [
        "y_pred"
      ],
      "metadata": {
        "id": "Tit9yCHz62rw"
      },
      "execution_count": null,
      "outputs": []
    },
    {
      "cell_type": "code",
      "source": [
        "y_pred = pd.DataFrame(y_pred.reshape(len(y_test),1))"
      ],
      "metadata": {
        "id": "_Nw2cViw62wv"
      },
      "execution_count": null,
      "outputs": []
    },
    {
      "cell_type": "code",
      "source": [
        "y_pred"
      ],
      "metadata": {
        "id": "6hDTIGmr622b"
      },
      "execution_count": null,
      "outputs": []
    },
    {
      "cell_type": "code",
      "source": [
        "x_test"
      ],
      "metadata": {
        "id": "6plRj40T627q"
      },
      "execution_count": null,
      "outputs": []
    },
    {
      "cell_type": "code",
      "source": [
        "print(model.layers[0].get_weights()[0])\n",
        "print(model.layers[0].get_weights()[1])"
      ],
      "metadata": {
        "id": "CMIXCPZf63BS"
      },
      "execution_count": null,
      "outputs": []
    },
    {
      "cell_type": "code",
      "source": [
        ""
      ],
      "metadata": {
        "id": "GVl55EJ570iC"
      },
      "execution_count": null,
      "outputs": []
    },
    {
      "cell_type": "code",
      "source": [
        ""
      ],
      "metadata": {
        "id": "s2bPRXfA70rP"
      },
      "execution_count": null,
      "outputs": []
    },
    {
      "cell_type": "code",
      "source": [
        ""
      ],
      "metadata": {
        "id": "EsIIBKnT700z"
      },
      "execution_count": null,
      "outputs": []
    },
    {
      "cell_type": "code",
      "source": [
        ""
      ],
      "metadata": {
        "id": "W6ReWfR770-L"
      },
      "execution_count": null,
      "outputs": []
    },
    {
      "cell_type": "code",
      "source": [
        ""
      ],
      "metadata": {
        "id": "uc8OstEP71Hp"
      },
      "execution_count": null,
      "outputs": []
    },
    {
      "cell_type": "code",
      "source": [
        ""
      ],
      "metadata": {
        "id": "R21-fW4g71Rw"
      },
      "execution_count": null,
      "outputs": []
    },
    {
      "cell_type": "code",
      "source": [
        ""
      ],
      "metadata": {
        "id": "9IZkeLEr71cJ"
      },
      "execution_count": null,
      "outputs": []
    },
    {
      "cell_type": "code",
      "source": [
        ""
      ],
      "metadata": {
        "id": "OIT9HBD071mC"
      },
      "execution_count": null,
      "outputs": []
    }
  ]
}